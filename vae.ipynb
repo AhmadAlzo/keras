{
  "nbformat": 4,
  "nbformat_minor": 0,
  "metadata": {
    "colab": {
      "provenance": [],
      "gpuType": "T4"
    },
    "kernelspec": {
      "name": "python3",
      "display_name": "Python 3"
    },
    "language_info": {
      "name": "python"
    },
    "accelerator": "GPU"
  },
  "cells": [
    {
      "cell_type": "code",
      "execution_count": 1,
      "metadata": {
        "id": "KSm4Z46Wfn0U"
      },
      "outputs": [],
      "source": [
        "from tensorflow.keras.models import Model\n",
        "from tensorflow.keras.layers import Input, Dense, Conv2D, Flatten, Reshape, Conv2DTranspose\n",
        "from tensorflow.keras import backend as K\n",
        "from tensorflow.keras.datasets import mnist\n",
        "import numpy as np\n",
        "import matplotlib.pyplot as plt"
      ]
    },
    {
      "cell_type": "code",
      "source": [
        "# Define the encoder model\n",
        "latent_dim = 128\n",
        "\n",
        "encoder_inputs = Input(shape=(28, 28, 1))\n",
        "x = Conv2D(32, 3, padding='same', activation='relu')(encoder_inputs)\n",
        "x = Conv2D(64, 3, strides=(2, 2), padding='same', activation='relu')(x)\n",
        "x = Conv2D(64, 3, strides=(2, 2), padding='same', activation='relu')(x)\n",
        "x = Conv2D(128, 3, strides=(2, 2), padding='same', activation='relu')(x)\n",
        "x = Flatten()(x)\n",
        "latent_space = Dense(latent_dim, name='latent_space')(x)\n",
        "\n",
        "encoder = Model(encoder_inputs, latent_space, name='encoder')\n",
        "\n",
        "# Define the decoder model\n",
        "latent_inputs = Input(shape=(latent_dim,))\n",
        "x = Dense(7 * 7 * 128)(latent_inputs)\n",
        "x = Reshape((7, 7, 128))(x)\n",
        "x = Conv2DTranspose(64, 3, strides=(2, 2), padding='same', activation='relu')(x)\n",
        "x = Conv2DTranspose(64, 3, strides=(2, 2), padding='same', activation='relu')(x)\n",
        "x = Conv2DTranspose(32, 3, padding='same', activation='relu')(x)\n",
        "decoder_outputs = Conv2DTranspose(1, 3, padding='same', activation='sigmoid')(x)\n",
        "\n",
        "decoder = Model(latent_inputs, decoder_outputs, name='decoder')\n",
        "\n",
        "# Define the VAE model\n",
        "vae_outputs = decoder(encoder(encoder_inputs))\n",
        "vae = Model(encoder_inputs, vae_outputs, name='vae')\n",
        "\n",
        "# Define the VAE loss function\n",
        "def vae_loss(inputs, outputs):\n",
        "    reconstruction_loss = K.mean(K.square(inputs - outputs), axis=[1, 2, 3])\n",
        "    kl_loss = -0.5 * K.mean(1 + K.log(K.square(K.std(inputs))) - K.square(K.mean(inputs)) - K.square(K.std(inputs)))\n",
        "    return reconstruction_loss + kl_loss\n",
        "\n",
        "# Compile the VAE model\n",
        "vae.compile(optimizer='adam', loss=vae_loss)"
      ],
      "metadata": {
        "id": "h8b6tJRuh6Ur"
      },
      "execution_count": 2,
      "outputs": []
    },
    {
      "cell_type": "code",
      "source": [
        "(x_train, _), (x_test, _) = mnist.load_data()\n",
        "\n",
        "# Normalize pixel values\n",
        "x_train = x_train.astype('float32') / 255.0\n",
        "x_test = x_test.astype('float32') / 255.0\n",
        "\n",
        "# Reshape the images\n",
        "x_train = np.reshape(x_train, (len(x_train), 28, 28, 1))\n",
        "x_test = np.reshape(x_test, (len(x_test), 28, 28, 1))\n",
        "\n",
        "# Split the dataset\n",
        "train_size = int(0.8 * len(x_train))\n",
        "x_train, x_val = x_train[:train_size], x_train[train_size:]\n",
        "\n",
        "print(\"x_train shape:\", x_train.shape)\n",
        "print(\"x_val shape:\", x_val.shape)\n",
        "print(\"x_test shape:\", x_test.shape)"
      ],
      "metadata": {
        "colab": {
          "base_uri": "https://localhost:8080/"
        },
        "id": "UjJJN2Vxh_Zp",
        "outputId": "4e549495-5618-4baa-d7ad-15db06a63bf8"
      },
      "execution_count": 3,
      "outputs": [
        {
          "output_type": "stream",
          "name": "stdout",
          "text": [
            "Downloading data from https://storage.googleapis.com/tensorflow/tf-keras-datasets/mnist.npz\n",
            "11490434/11490434 [==============================] - 2s 0us/step\n",
            "x_train shape: (48000, 28, 28, 1)\n",
            "x_val shape: (12000, 28, 28, 1)\n",
            "x_test shape: (10000, 28, 28, 1)\n"
          ]
        }
      ]
    },
    {
      "cell_type": "code",
      "source": [
        "# Train the VAE model\n",
        "epochs = 40\n",
        "batch_size = 128\n",
        "\n",
        "vae.fit(x_train, x_train, \n",
        "        validation_data=(x_val, x_val), \n",
        "        epochs=epochs, \n",
        "        batch_size=batch_size)\n",
        "\n"
      ],
      "metadata": {
        "colab": {
          "base_uri": "https://localhost:8080/"
        },
        "id": "bRGAtxmfiAE5",
        "outputId": "94342d27-00a9-4ad3-8935-745560f69b9d"
      },
      "execution_count": null,
      "outputs": [
        {
          "output_type": "stream",
          "name": "stdout",
          "text": [
            "Epoch 1/40\n",
            "375/375 [==============================] - 7s 19ms/step - loss: 0.7335 - val_loss: 0.7399\n",
            "Epoch 2/40\n",
            "375/375 [==============================] - 7s 19ms/step - loss: 0.7335 - val_loss: 0.7399\n",
            "Epoch 3/40\n",
            "375/375 [==============================] - 7s 19ms/step - loss: 0.7335 - val_loss: 0.7399\n",
            "Epoch 4/40\n",
            "375/375 [==============================] - 7s 19ms/step - loss: 0.7335 - val_loss: 0.7399\n",
            "Epoch 5/40\n",
            "375/375 [==============================] - 7s 19ms/step - loss: 0.7334 - val_loss: 0.7398\n",
            "Epoch 6/40\n",
            "375/375 [==============================] - 7s 18ms/step - loss: 0.7334 - val_loss: 0.7398\n",
            "Epoch 7/40\n",
            "375/375 [==============================] - 7s 19ms/step - loss: 0.7334 - val_loss: 0.7398\n",
            "Epoch 8/40\n",
            "375/375 [==============================] - 7s 19ms/step - loss: 0.7334 - val_loss: 0.7398\n",
            "Epoch 9/40\n",
            "375/375 [==============================] - 7s 19ms/step - loss: 0.7334 - val_loss: 0.7398\n",
            "Epoch 10/40\n",
            "375/375 [==============================] - 8s 20ms/step - loss: 0.7333 - val_loss: 0.7400\n",
            "Epoch 11/40\n",
            "375/375 [==============================] - 7s 18ms/step - loss: 0.7333 - val_loss: 0.7398\n",
            "Epoch 12/40\n",
            "375/375 [==============================] - 8s 21ms/step - loss: 0.7333 - val_loss: 0.7398\n",
            "Epoch 13/40\n",
            "375/375 [==============================] - 7s 18ms/step - loss: 0.7333 - val_loss: 0.7397\n",
            "Epoch 14/40\n",
            "375/375 [==============================] - 7s 19ms/step - loss: 0.7333 - val_loss: 0.7398\n",
            "Epoch 15/40\n",
            "375/375 [==============================] - 7s 18ms/step - loss: 0.7332 - val_loss: 0.7398\n",
            "Epoch 16/40\n",
            "375/375 [==============================] - 7s 19ms/step - loss: 0.7333 - val_loss: 0.7397\n",
            "Epoch 17/40\n",
            "375/375 [==============================] - 8s 20ms/step - loss: 0.7333 - val_loss: 0.7397\n",
            "Epoch 18/40\n",
            "375/375 [==============================] - 7s 18ms/step - loss: 0.7332 - val_loss: 0.7397\n",
            "Epoch 19/40\n",
            "375/375 [==============================] - 8s 20ms/step - loss: 0.7333 - val_loss: 0.7397\n",
            "Epoch 20/40\n",
            "375/375 [==============================] - 7s 18ms/step - loss: 0.7332 - val_loss: 0.7397\n",
            "Epoch 21/40\n",
            "375/375 [==============================] - 7s 19ms/step - loss: 0.7332 - val_loss: 0.7397\n",
            "Epoch 22/40\n",
            "375/375 [==============================] - 7s 18ms/step - loss: 0.7332 - val_loss: 0.7397\n",
            "Epoch 23/40\n",
            "375/375 [==============================] - 7s 18ms/step - loss: 0.7332 - val_loss: 0.7397\n",
            "Epoch 24/40\n",
            "375/375 [==============================] - 7s 18ms/step - loss: 0.7332 - val_loss: 0.7397\n",
            "Epoch 25/40\n",
            "375/375 [==============================] - 7s 18ms/step - loss: 0.7332 - val_loss: 0.7397\n",
            "Epoch 26/40\n",
            "375/375 [==============================] - 8s 20ms/step - loss: 0.7332 - val_loss: 0.7397\n",
            "Epoch 27/40\n",
            "375/375 [==============================] - 7s 18ms/step - loss: 0.7332 - val_loss: 0.7397\n",
            "Epoch 28/40\n",
            "375/375 [==============================] - 7s 19ms/step - loss: 0.7332 - val_loss: 0.7396\n",
            "Epoch 29/40\n",
            "375/375 [==============================] - 7s 18ms/step - loss: 0.7332 - val_loss: 0.7397\n",
            "Epoch 30/40\n",
            "375/375 [==============================] - 7s 19ms/step - loss: 0.7331 - val_loss: 0.7396\n",
            "Epoch 31/40\n",
            "375/375 [==============================] - 7s 18ms/step - loss: 0.7332 - val_loss: 0.7396\n",
            "Epoch 32/40\n",
            " 18/375 [>.............................] - ETA: 5s - loss: 0.7351"
          ]
        }
      ]
    },
    {
      "cell_type": "code",
      "source": [
        "# Generate new images\n",
        "latent_samples = np.random.normal(size=(10, latent_dim))\n",
        "generated_images = decoder.predict(latent_samples)\n",
        "\n",
        "# Rescale generated images to 0-255 range\n",
        "generated_images = generated_images * 255.0\n",
        "generated_images = generated_images.astype(np.uint8)\n",
        "\n",
        "# Display the generated images\n",
        "for i in range(10):\n",
        "    plt.subplot(2, 5, i+1)\n",
        "    plt.imshow(generated_images[i].reshape(28, 28), cmap='gray')\n",
        "    plt.axis('off')\n",
        "plt.show()"
      ],
      "metadata": {
        "colab": {
          "base_uri": "https://localhost:8080/",
          "height": 341
        },
        "id": "NvSrJnWEkVBA",
        "outputId": "6b519701-35d4-471a-a6dc-23c6bc7dda5d"
      },
      "execution_count": 11,
      "outputs": [
        {
          "output_type": "stream",
          "name": "stdout",
          "text": [
            "1/1 [==============================] - 0s 20ms/step\n"
          ]
        },
        {
          "output_type": "display_data",
          "data": {
            "text/plain": [
              "<Figure size 640x480 with 10 Axes>"
            ],
            "image/png": "[encoded data removed]"
          },
          "metadata": {}
        }
      ]
    },
    {
      "cell_type": "code",
      "source": [
        "vae.save('vae_model.h5')"
      ],
      "metadata": {
        "id": "01Eu7gLVi7eh"
      },
      "execution_count": null,
      "outputs": []
    },
    {
      "cell_type": "markdown",
      "source": [
        "# using with fastapi\n"
      ],
      "metadata": {
        "id": "vc-IK3ILimLv"
      }
    },
    {
      "cell_type": "code",
      "source": [
        "from fastapi import FastAPI\n",
        "from tensorflow.keras.models import load_model\n",
        "import numpy as np\n",
        "import cv2\n",
        "import base64\n",
        "from PIL import Image\n",
        "from io import BytesIO\n",
        "app = FastAPI()\n",
        "vae = load_model('vae_model.h5')  # Path to your trained VAE model file\n",
        "latent_dim = 128\n",
        "\n",
        "@app.post('/generate_image')\n",
        "def generate_image():\n",
        "    # Generate new image\n",
        "    latent_samples = np.random.normal(size=(1, latent_dim))\n",
        "    generated_image = vae.decoder.predict(latent_samples)\n",
        "\n",
        "    # Rescale and convert image to base64\n",
        "    generated_image = generated_image.reshape(28, 28) * 255.0\n",
        "    generated_image = generated_image.astype(np.uint8)\n",
        "    pil_image = Image.fromarray(generated_image)\n",
        "    buffered = BytesIO()\n",
        "    pil_image.save(buffered, format=\"PNG\")\n",
        "    encoded_image = base64.b64encode(buffered.getvalue()).decode('utf-8')\n",
        "\n",
        "    return {'image': encoded_image}"
      ],
      "metadata": {
        "id": "P-47GulQiV6v"
      },
      "execution_count": null,
      "outputs": []
    }
  ]
}